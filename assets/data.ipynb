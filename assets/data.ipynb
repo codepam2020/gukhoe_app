{
 "cells": [
  {
   "cell_type": "code",
   "execution_count": 3,
   "metadata": {},
   "outputs": [],
   "source": [
    "import pandas as pd"
   ]
  },
  {
   "cell_type": "code",
   "execution_count": 4,
   "metadata": {},
   "outputs": [
    {
     "data": {
      "text/html": [
       "<div>\n",
       "<style scoped>\n",
       "    .dataframe tbody tr th:only-of-type {\n",
       "        vertical-align: middle;\n",
       "    }\n",
       "\n",
       "    .dataframe tbody tr th {\n",
       "        vertical-align: top;\n",
       "    }\n",
       "\n",
       "    .dataframe thead th {\n",
       "        text-align: right;\n",
       "    }\n",
       "</style>\n",
       "<table border=\"1\" class=\"dataframe\">\n",
       "  <thead>\n",
       "    <tr style=\"text-align: right;\">\n",
       "      <th></th>\n",
       "      <th>constituency</th>\n",
       "      <th>city_list</th>\n",
       "    </tr>\n",
       "  </thead>\n",
       "  <tbody>\n",
       "    <tr>\n",
       "      <th>0</th>\n",
       "      <td>중구·남구</td>\n",
       "      <td>[중구, 남구 전 지역]</td>\n",
       "    </tr>\n",
       "    <tr>\n",
       "      <th>1</th>\n",
       "      <td>동구 갑</td>\n",
       "      <td>[신암1동, 신암2동, 신암3동, 신암4동, 신암5동, 신천1·2동, 신천3동, 신...</td>\n",
       "    </tr>\n",
       "    <tr>\n",
       "      <th>2</th>\n",
       "      <td>동구 을</td>\n",
       "      <td>[도평동, 불로·봉무동, 방촌동, 해안동, 안심1동, 안심2동, 안심3·4동, 공산동]</td>\n",
       "    </tr>\n",
       "    <tr>\n",
       "      <th>3</th>\n",
       "      <td>서구</td>\n",
       "      <td>[서구 전 지역]</td>\n",
       "    </tr>\n",
       "    <tr>\n",
       "      <th>4</th>\n",
       "      <td>북구 갑</td>\n",
       "      <td>[고성동, 칠성동, 침산1동, 침산2동, 침산3동, 산격1동, 산격2동, 산격3동,...</td>\n",
       "    </tr>\n",
       "    <tr>\n",
       "      <th>5</th>\n",
       "      <td>북구 을</td>\n",
       "      <td>[무태조야동, 관문동, 태전1동, 태전2동, 구암동, 관음동, 읍내동, 동천동, 국우동]</td>\n",
       "    </tr>\n",
       "    <tr>\n",
       "      <th>6</th>\n",
       "      <td>수성구 갑</td>\n",
       "      <td>[범어1동, 범어2동, 범어3동, 범어4동, 만촌1동, 만촌2동, 만촌3동, 황금1...</td>\n",
       "    </tr>\n",
       "    <tr>\n",
       "      <th>7</th>\n",
       "      <td>수성구 을</td>\n",
       "      <td>[수성1가동, 수성2·3가동, 수성4가동, 중동, 상동, 파동, 두산동, 지산1동,...</td>\n",
       "    </tr>\n",
       "    <tr>\n",
       "      <th>8</th>\n",
       "      <td>달서구 갑</td>\n",
       "      <td>[죽전동, 장기동, 용산1동, 용산2동, 이곡1동, 이곡2동, 신당동]</td>\n",
       "    </tr>\n",
       "    <tr>\n",
       "      <th>9</th>\n",
       "      <td>달서구 을</td>\n",
       "      <td>[월성1동, 월성2동, 진천동, 상인1동, 상인2동, 상인3동, 도원동]</td>\n",
       "    </tr>\n",
       "    <tr>\n",
       "      <th>10</th>\n",
       "      <td>달서구 병</td>\n",
       "      <td>[성당동, 두류1·2동, 두류3동, 본리동, 감삼동, 송현1동, 송현2동, 본동]</td>\n",
       "    </tr>\n",
       "    <tr>\n",
       "      <th>11</th>\n",
       "      <td>달성군</td>\n",
       "      <td>[달성군 전 지역]</td>\n",
       "    </tr>\n",
       "  </tbody>\n",
       "</table>\n",
       "</div>"
      ],
      "text/plain": [
       "   constituency                                          city_list\n",
       "0         중구·남구                                      [중구, 남구 전 지역]\n",
       "1          동구 갑  [신암1동, 신암2동, 신암3동, 신암4동, 신암5동, 신천1·2동, 신천3동, 신...\n",
       "2          동구 을   [도평동, 불로·봉무동, 방촌동, 해안동, 안심1동, 안심2동, 안심3·4동, 공산동]\n",
       "3            서구                                          [서구 전 지역]\n",
       "4          북구 갑  [고성동, 칠성동, 침산1동, 침산2동, 침산3동, 산격1동, 산격2동, 산격3동,...\n",
       "5          북구 을  [무태조야동, 관문동, 태전1동, 태전2동, 구암동, 관음동, 읍내동, 동천동, 국우동]\n",
       "6         수성구 갑  [범어1동, 범어2동, 범어3동, 범어4동, 만촌1동, 만촌2동, 만촌3동, 황금1...\n",
       "7         수성구 을  [수성1가동, 수성2·3가동, 수성4가동, 중동, 상동, 파동, 두산동, 지산1동,...\n",
       "8         달서구 갑            [죽전동, 장기동, 용산1동, 용산2동, 이곡1동, 이곡2동, 신당동]\n",
       "9         달서구 을           [월성1동, 월성2동, 진천동, 상인1동, 상인2동, 상인3동, 도원동]\n",
       "10        달서구 병      [성당동, 두류1·2동, 두류3동, 본리동, 감삼동, 송현1동, 송현2동, 본동]\n",
       "11          달성군                                         [달성군 전 지역]"
      ]
     },
     "execution_count": 4,
     "metadata": {},
     "output_type": "execute_result"
    }
   ],
   "source": [
    "df = pd.read_json('./daegu_gukhoe.json')\n",
    "df"
   ]
  },
  {
   "cell_type": "code",
   "execution_count": null,
   "metadata": {},
   "outputs": [],
   "source": []
  }
 ],
 "metadata": {
  "kernelspec": {
   "display_name": "Python 3.9.13 ('dt')",
   "language": "python",
   "name": "python3"
  },
  "language_info": {
   "codemirror_mode": {
    "name": "ipython",
    "version": 3
   },
   "file_extension": ".py",
   "mimetype": "text/x-python",
   "name": "python",
   "nbconvert_exporter": "python",
   "pygments_lexer": "ipython3",
   "version": "3.9.13"
  },
  "orig_nbformat": 4,
  "vscode": {
   "interpreter": {
    "hash": "7d1f0ef0627ae2bff5411a01e256ba9b195be0690c00bee3e04110b1b53e9b52"
   }
  }
 },
 "nbformat": 4,
 "nbformat_minor": 2
}
